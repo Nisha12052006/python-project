{
 "cells": [
  {
   "cell_type": "code",
   "execution_count": 80,
   "id": "34abb4ab",
   "metadata": {},
   "outputs": [
    {
     "data": {
      "text/html": [
       "<div>\n",
       "<style scoped>\n",
       "    .dataframe tbody tr th:only-of-type {\n",
       "        vertical-align: middle;\n",
       "    }\n",
       "\n",
       "    .dataframe tbody tr th {\n",
       "        vertical-align: top;\n",
       "    }\n",
       "\n",
       "    .dataframe thead th {\n",
       "        text-align: right;\n",
       "    }\n",
       "</style>\n",
       "<table border=\"1\" class=\"dataframe\">\n",
       "  <thead>\n",
       "    <tr style=\"text-align: right;\">\n",
       "      <th></th>\n",
       "      <th>Sepal Length</th>\n",
       "      <th>Sepal Width</th>\n",
       "      <th>Petal Length (cm)</th>\n",
       "      <th>Petal Width</th>\n",
       "      <th>Class</th>\n",
       "      <th>Unnamed: 5</th>\n",
       "      <th>Unnamed: 6</th>\n",
       "      <th>alpha</th>\n",
       "      <th>obj</th>\n",
       "      <th>Unnamed: 9</th>\n",
       "      <th>Unnamed: 10</th>\n",
       "    </tr>\n",
       "  </thead>\n",
       "  <tbody>\n",
       "    <tr>\n",
       "      <th>0</th>\n",
       "      <td>7.0</td>\n",
       "      <td>3.2</td>\n",
       "      <td>4.7</td>\n",
       "      <td>1.4</td>\n",
       "      <td>Iris-versicolor</td>\n",
       "      <td>NaN</td>\n",
       "      <td>0.0</td>\n",
       "      <td>0.0</td>\n",
       "      <td>0.0</td>\n",
       "      <td>0</td>\n",
       "      <td>1</td>\n",
       "    </tr>\n",
       "    <tr>\n",
       "      <th>1</th>\n",
       "      <td>6.4</td>\n",
       "      <td>3.2</td>\n",
       "      <td>4.5</td>\n",
       "      <td>1.5</td>\n",
       "      <td>Iris-versicolor</td>\n",
       "      <td>NaN</td>\n",
       "      <td>0.0</td>\n",
       "      <td>NaN</td>\n",
       "      <td>NaN</td>\n",
       "      <td>0</td>\n",
       "      <td>1</td>\n",
       "    </tr>\n",
       "    <tr>\n",
       "      <th>2</th>\n",
       "      <td>6.9</td>\n",
       "      <td>3.1</td>\n",
       "      <td>4.9</td>\n",
       "      <td>1.5</td>\n",
       "      <td>Iris-versicolor</td>\n",
       "      <td>NaN</td>\n",
       "      <td>0.0</td>\n",
       "      <td>NaN</td>\n",
       "      <td>NaN</td>\n",
       "      <td>0</td>\n",
       "      <td>1</td>\n",
       "    </tr>\n",
       "    <tr>\n",
       "      <th>3</th>\n",
       "      <td>5.5</td>\n",
       "      <td>2.3</td>\n",
       "      <td>4.0</td>\n",
       "      <td>1.3</td>\n",
       "      <td>Iris-versicolor</td>\n",
       "      <td>NaN</td>\n",
       "      <td>0.0</td>\n",
       "      <td>NaN</td>\n",
       "      <td>NaN</td>\n",
       "      <td>0</td>\n",
       "      <td>1</td>\n",
       "    </tr>\n",
       "    <tr>\n",
       "      <th>4</th>\n",
       "      <td>6.5</td>\n",
       "      <td>2.8</td>\n",
       "      <td>4.6</td>\n",
       "      <td>1.5</td>\n",
       "      <td>Iris-versicolor</td>\n",
       "      <td>NaN</td>\n",
       "      <td>NaN</td>\n",
       "      <td>NaN</td>\n",
       "      <td>NaN</td>\n",
       "      <td>0</td>\n",
       "      <td>1</td>\n",
       "    </tr>\n",
       "  </tbody>\n",
       "</table>\n",
       "</div>"
      ],
      "text/plain": [
       "   Sepal Length   Sepal Width   Petal Length (cm)  Petal Width   \\\n",
       "0            7.0           3.2                4.7           1.4   \n",
       "1            6.4           3.2                4.5           1.5   \n",
       "2            6.9           3.1                4.9           1.5   \n",
       "3            5.5           2.3                4.0           1.3   \n",
       "4            6.5           2.8                4.6           1.5   \n",
       "\n",
       "             Class  Unnamed: 5  Unnamed: 6  alpha  obj  Unnamed: 9  \\\n",
       "0  Iris-versicolor         NaN         0.0    0.0  0.0           0   \n",
       "1  Iris-versicolor         NaN         0.0    NaN  NaN           0   \n",
       "2  Iris-versicolor         NaN         0.0    NaN  NaN           0   \n",
       "3  Iris-versicolor         NaN         0.0    NaN  NaN           0   \n",
       "4  Iris-versicolor         NaN         NaN    NaN  NaN           0   \n",
       "\n",
       "   Unnamed: 10  \n",
       "0            1  \n",
       "1            1  \n",
       "2            1  \n",
       "3            1  \n",
       "4            1  "
      ]
     },
     "execution_count": 80,
     "metadata": {},
     "output_type": "execute_result"
    }
   ],
   "source": [
    "import pandas as pd\n",
    "import seaborn as sns\n",
    "import numpy as np\n",
    "import matplotlib.pyplot as plt\n",
    "path=(r\"C:\\Users\\Student\\Downloads\\iris 37.csv\")\n",
    "\n",
    "df=pd.read_csv(path)\n",
    "\n",
    "df.head()"
   ]
  },
  {
   "cell_type": "code",
   "execution_count": 52,
   "id": "a3790e95",
   "metadata": {},
   "outputs": [
    {
     "name": "stdout",
     "output_type": "stream",
     "text": [
      "    Sepal Length   Sepal Width   Petal Length (cm)  Petal Width   \\\n",
      "23            6.1           2.8                4.7           1.2   \n",
      "27            6.7           3.0                5.0           1.7   \n",
      "21            6.1           2.8                4.0           1.3   \n",
      "85            5.0           3.2                1.2           0.2   \n",
      "11            5.9           3.0                4.2           1.5   \n",
      "45            5.7           3.0                4.2           1.2   \n",
      "55            5.4           3.9                1.7           0.4   \n",
      "1             6.4           3.2                4.5           1.5   \n",
      "37            6.3           2.3                4.4           1.3   \n",
      "77            5.2           3.5                1.5           0.2   \n",
      "9             5.2           2.7                3.9           1.4   \n",
      "53            4.6           3.1                1.5           0.2   \n",
      "3             5.5           2.3                4.0           1.3   \n",
      "35            6.0           3.4                4.5           1.6   \n",
      "19            5.6           2.5                3.9           1.1   \n",
      "41            6.1           3.0                4.6           1.4   \n",
      "97            4.6           3.2                1.4           0.2   \n",
      "81            5.4           3.4                1.5           0.4   \n",
      "59            4.9           3.1                1.5           0.1   \n",
      "75            5.0           3.0                1.6           0.2   \n",
      "87            4.9           3.1                1.5           0.1   \n",
      "49            5.7           2.8                4.1           1.3   \n",
      "65            5.7           4.4                1.5           0.4   \n",
      "39            5.5           2.5                4.0           1.3   \n",
      "67            5.1           3.5                1.4           0.3   \n",
      "51            4.9           3.0                1.4           0.2   \n",
      "43            5.0           2.3                3.3           1.0   \n",
      "83            5.5           4.2                1.4           0.2   \n",
      "95            4.8           3.0                1.4           0.3   \n",
      "57            5.0           3.4                1.5           0.2   \n",
      "25            6.6           3.0                4.4           1.4   \n",
      "13            6.1           2.9                4.7           1.4   \n",
      "31            5.5           2.4                3.7           1.0   \n",
      "89            5.1           3.4                1.5           0.2   \n",
      "93            5.0           3.5                1.6           0.6   \n",
      "61            4.8           3.4                1.6           0.2   \n",
      "79            4.7           3.2                1.6           0.2   \n",
      "33            6.0           2.7                5.1           1.6   \n",
      "15            6.7           3.1                4.4           1.4   \n",
      "63            4.3           3.0                1.1           0.1   \n",
      "99            5.0           3.3                1.4           0.2   \n",
      "47            6.2           2.9                4.3           1.3   \n",
      "91            4.5           2.3                1.3           0.3   \n",
      "29            5.7           2.6                3.5           1.0   \n",
      "73            5.1           3.3                1.7           0.5   \n",
      "71            5.1           3.7                1.5           0.4   \n",
      "5             5.7           2.8                4.5           1.3   \n",
      "17            5.8           2.7                4.1           1.0   \n",
      "7             4.9           2.4                3.3           1.0   \n",
      "69            5.1           3.8                1.5           0.3   \n",
      "\n",
      "              Class  Unnamed: 5  Unnamed: 6  alpha  obj  Unnamed: 9  \\\n",
      "23  Iris-versicolor         NaN         NaN    NaN  NaN           0   \n",
      "27  Iris-versicolor         NaN         NaN    NaN  NaN           0   \n",
      "21  Iris-versicolor         NaN         NaN    NaN  NaN           0   \n",
      "85      Iris-setosa         NaN         NaN    NaN  NaN           0   \n",
      "11  Iris-versicolor         NaN         NaN    NaN  NaN           0   \n",
      "45  Iris-versicolor         NaN         NaN    NaN  NaN           0   \n",
      "55      Iris-setosa         NaN         NaN    NaN  NaN           0   \n",
      "1   Iris-versicolor         NaN         0.0    NaN  NaN           0   \n",
      "37  Iris-versicolor         NaN         NaN    NaN  NaN           0   \n",
      "77      Iris-setosa         NaN         NaN    NaN  NaN           0   \n",
      "9   Iris-versicolor         NaN         NaN    NaN  NaN           0   \n",
      "53      Iris-setosa         NaN         NaN    NaN  NaN           0   \n",
      "3   Iris-versicolor         NaN         0.0    NaN  NaN           0   \n",
      "35  Iris-versicolor         NaN         NaN    NaN  NaN           0   \n",
      "19  Iris-versicolor         NaN         NaN    NaN  NaN           0   \n",
      "41  Iris-versicolor         NaN         NaN    NaN  NaN           0   \n",
      "97      Iris-setosa         NaN         NaN    NaN  NaN           0   \n",
      "81      Iris-setosa         NaN         NaN    NaN  NaN           0   \n",
      "59      Iris-setosa         NaN         NaN    NaN  NaN           0   \n",
      "75      Iris-setosa         NaN         NaN    NaN  NaN           0   \n",
      "87      Iris-setosa         NaN         NaN    NaN  NaN           0   \n",
      "49  Iris-versicolor         NaN         NaN    NaN  NaN           0   \n",
      "65      Iris-setosa         NaN         NaN    NaN  NaN           0   \n",
      "39  Iris-versicolor         NaN         NaN    NaN  NaN           0   \n",
      "67      Iris-setosa         NaN         NaN    NaN  NaN           0   \n",
      "51      Iris-setosa         NaN         NaN    NaN  NaN           0   \n",
      "43  Iris-versicolor         NaN         NaN    NaN  NaN           0   \n",
      "83      Iris-setosa         NaN         NaN    NaN  NaN           0   \n",
      "95      Iris-setosa         NaN         NaN    NaN  NaN           0   \n",
      "57      Iris-setosa         NaN         NaN    NaN  NaN           0   \n",
      "25  Iris-versicolor         NaN         NaN    NaN  NaN           0   \n",
      "13  Iris-versicolor         NaN         NaN    NaN  NaN           0   \n",
      "31  Iris-versicolor         NaN         NaN    NaN  NaN           0   \n",
      "89      Iris-setosa         NaN         NaN    NaN  NaN           0   \n",
      "93      Iris-setosa         NaN         NaN    NaN  NaN           0   \n",
      "61      Iris-setosa         NaN         NaN    NaN  NaN           0   \n",
      "79      Iris-setosa         NaN         NaN    NaN  NaN           0   \n",
      "33  Iris-versicolor         NaN         NaN    NaN  NaN           0   \n",
      "15  Iris-versicolor         NaN         NaN    NaN  NaN           0   \n",
      "63      Iris-setosa         NaN         NaN    NaN  NaN           0   \n",
      "99      Iris-setosa         NaN         NaN    NaN  NaN           0   \n",
      "47  Iris-versicolor         NaN         NaN    NaN  NaN           0   \n",
      "91      Iris-setosa         NaN         NaN    NaN  NaN           0   \n",
      "29  Iris-versicolor         NaN         NaN    NaN  NaN           0   \n",
      "73      Iris-setosa         NaN         NaN    NaN  NaN           0   \n",
      "71      Iris-setosa         NaN         NaN    NaN  NaN           0   \n",
      "5   Iris-versicolor         NaN         NaN    NaN  NaN           0   \n",
      "17  Iris-versicolor         NaN         NaN    NaN  NaN           0   \n",
      "7   Iris-versicolor         NaN         NaN    NaN  NaN           0   \n",
      "69      Iris-setosa         NaN         NaN    NaN  NaN           0   \n",
      "\n",
      "    Unnamed: 10  \n",
      "23            1  \n",
      "27            1  \n",
      "21            1  \n",
      "85            1  \n",
      "11            1  \n",
      "45            1  \n",
      "55            1  \n",
      "1             1  \n",
      "37            1  \n",
      "77            1  \n",
      "9             1  \n",
      "53            1  \n",
      "3             1  \n",
      "35            1  \n",
      "19            1  \n",
      "41            1  \n",
      "97            1  \n",
      "81            1  \n",
      "59            1  \n",
      "75            1  \n",
      "87            1  \n",
      "49            1  \n",
      "65            1  \n",
      "39            1  \n",
      "67            1  \n",
      "51            1  \n",
      "43            1  \n",
      "83            1  \n",
      "95            1  \n",
      "57            1  \n",
      "25            1  \n",
      "13            1  \n",
      "31            1  \n",
      "89            1  \n",
      "93            1  \n",
      "61            1  \n",
      "79            1  \n",
      "33            1  \n",
      "15            1  \n",
      "63            1  \n",
      "99            1  \n",
      "47            1  \n",
      "91            1  \n",
      "29            1  \n",
      "73            1  \n",
      "71            1  \n",
      "5             1  \n",
      "17            1  \n",
      "7             1  \n",
      "69            1  \n"
     ]
    }
   ],
   "source": [
    "import numpy as np\n",
    "\n",
    "odd_rows = df.iloc[np.arange(1, df.shape[0], 2)]\n",
    "print(odd_rows.sample(frac=1)) \n"
   ]
  },
  {
   "cell_type": "code",
   "execution_count": 53,
   "id": "94c2daef",
   "metadata": {},
   "outputs": [
    {
     "name": "stdout",
     "output_type": "stream",
     "text": [
      "Number of columns: 11\n",
      "Column names: ['Sepal Length ', 'Sepal Width ', 'Petal Length (cm)', 'Petal Width ', 'Class', 'Unnamed: 5', 'Unnamed: 6', 'alpha', 'obj', 'Unnamed: 9', 'Unnamed: 10']\n"
     ]
    }
   ],
   "source": [
    "num_columns = df.shape[1]\n",
    "column_names = df.columns.tolist()\n",
    "print(f\"Number of columns: {num_columns}\")\n",
    "print(f\"Column names: {column_names}\")\n"
   ]
  },
  {
   "cell_type": "code",
   "execution_count": 65,
   "id": "caeacbf8",
   "metadata": {},
   "outputs": [
    {
     "name": "stdout",
     "output_type": "stream",
     "text": [
      "Shape of the dataset: (100, 11)\n"
     ]
    }
   ],
   "source": [
    "dataset_shape = df.shape\n",
    "print(f\"Shape of the dataset: {dataset_shape}\")\n"
   ]
  },
  {
   "cell_type": "code",
   "execution_count": 55,
   "id": "07acdf39",
   "metadata": {},
   "outputs": [
    {
     "name": "stdout",
     "output_type": "stream",
     "text": [
      "    Sepal Length   Sepal Width   Petal Length (cm)  Petal Width   \\\n",
      "10            5.0           2.0                3.5           1.0   \n",
      "11            5.9           3.0                4.2           1.5   \n",
      "12            6.0           2.2                4.0           1.0   \n",
      "13            6.1           2.9                4.7           1.4   \n",
      "14            5.6           2.9                3.6           1.3   \n",
      "15            6.7           3.1                4.4           1.4   \n",
      "16            5.6           3.0                4.5           1.5   \n",
      "17            5.8           2.7                4.1           1.0   \n",
      "18            6.2           2.2                4.5           1.5   \n",
      "19            5.6           2.5                3.9           1.1   \n",
      "\n",
      "              Class  Unnamed: 5  Unnamed: 6  alpha  obj  Unnamed: 9  \\\n",
      "10  Iris-versicolor         NaN         NaN    NaN  NaN           0   \n",
      "11  Iris-versicolor         NaN         NaN    NaN  NaN           0   \n",
      "12  Iris-versicolor         NaN         NaN    NaN  NaN           0   \n",
      "13  Iris-versicolor         NaN         NaN    NaN  NaN           0   \n",
      "14  Iris-versicolor         NaN         NaN    NaN  NaN           0   \n",
      "15  Iris-versicolor         NaN         NaN    NaN  NaN           0   \n",
      "16  Iris-versicolor         NaN         NaN    NaN  NaN           0   \n",
      "17  Iris-versicolor         NaN         NaN    NaN  NaN           0   \n",
      "18  Iris-versicolor         NaN         NaN    NaN  NaN           0   \n",
      "19  Iris-versicolor         NaN         NaN    NaN  NaN           0   \n",
      "\n",
      "    Unnamed: 10  \n",
      "10            1  \n",
      "11            1  \n",
      "12            1  \n",
      "13            1  \n",
      "14            1  \n",
      "15            1  \n",
      "16            1  \n",
      "17            1  \n",
      "18            1  \n",
      "19            1  \n"
     ]
    }
   ],
   "source": [
    "sliced_rows = df[10:20] \n",
    "print(sliced_rows)\n"
   ]
  },
  {
   "cell_type": "code",
   "execution_count": 69,
   "id": "1dc7c5d6",
   "metadata": {},
   "outputs": [
    {
     "name": "stdout",
     "output_type": "stream",
     "text": [
      "              Class\n",
      "0   Iris-versicolor\n",
      "1   Iris-versicolor\n",
      "2   Iris-versicolor\n",
      "3   Iris-versicolor\n",
      "4   Iris-versicolor\n",
      "..              ...\n",
      "95      Iris-setosa\n",
      "96      Iris-setosa\n",
      "97      Iris-setosa\n",
      "98      Iris-setosa\n",
      "99      Iris-setosa\n",
      "\n",
      "[100 rows x 1 columns]\n"
     ]
    }
   ],
   "source": [
    "specific_columns = df[['Class',]]\n",
    "print(specific_columns)\n"
   ]
  },
  {
   "cell_type": "code",
   "execution_count": 58,
   "id": "261485a5",
   "metadata": {},
   "outputs": [
    {
     "name": "stdout",
     "output_type": "stream",
     "text": [
      "   Sepal Length   Sepal Width   Petal Length (cm)  Petal Width   \\\n",
      "0            7.0           3.2                4.7           1.4   \n",
      "1            6.4           3.2                4.5           1.5   \n",
      "2            6.9           3.1                4.9           1.5   \n",
      "3            5.5           2.3                4.0           1.3   \n",
      "4            6.5           2.8                4.6           1.5   \n",
      "\n",
      "             Class  Unnamed: 5  Unnamed: 6  alpha  obj  Unnamed: 9  \\\n",
      "0  Iris-versicolor         NaN         0.0    0.0  0.0           0   \n",
      "1  Iris-versicolor         NaN         0.0    NaN  NaN           0   \n",
      "2  Iris-versicolor         NaN         0.0    NaN  NaN           0   \n",
      "3  Iris-versicolor         NaN         0.0    NaN  NaN           0   \n",
      "4  Iris-versicolor         NaN         NaN    NaN  NaN           0   \n",
      "\n",
      "   Unnamed: 10  \n",
      "0            1  \n",
      "1            1  \n",
      "2            1  \n",
      "3            1  \n",
      "4            1  \n",
      "   Sepal Length   Sepal Width   Petal Length (cm)  Petal Width   \\\n",
      "0            7.0           3.2                4.7           1.4   \n",
      "1            6.4           3.2                4.5           1.5   \n",
      "2            6.9           3.1                4.9           1.5   \n",
      "3            5.5           2.3                4.0           1.3   \n",
      "4            6.5           2.8                4.6           1.5   \n",
      "5            5.7           2.8                4.5           1.3   \n",
      "\n",
      "             Class  Unnamed: 5  Unnamed: 6  alpha  obj  Unnamed: 9  \\\n",
      "0  Iris-versicolor         NaN         0.0    0.0  0.0           0   \n",
      "1  Iris-versicolor         NaN         0.0    NaN  NaN           0   \n",
      "2  Iris-versicolor         NaN         0.0    NaN  NaN           0   \n",
      "3  Iris-versicolor         NaN         0.0    NaN  NaN           0   \n",
      "4  Iris-versicolor         NaN         NaN    NaN  NaN           0   \n",
      "5  Iris-versicolor         NaN         NaN    NaN  NaN           0   \n",
      "\n",
      "   Unnamed: 10  \n",
      "0            1  \n",
      "1            1  \n",
      "2            1  \n",
      "3            1  \n",
      "4            1  \n",
      "5            1  \n"
     ]
    }
   ],
   "source": [
    "\n",
    "iloc_rows = df.iloc[0:5] \n",
    "print(iloc_rows)\n",
    "\n",
    "loc_rows = df.loc[0:5] \n",
    "print(loc_rows)\n",
    "\n"
   ]
  },
  {
   "cell_type": "code",
   "execution_count": 76,
   "id": "0490e309",
   "metadata": {},
   "outputs": [
    {
     "name": "stdout",
     "output_type": "stream",
     "text": [
      "Sum: 547.1, Mean: 5.471, Mode: 5.0\n"
     ]
    }
   ],
   "source": [
    "column_sum = df['Sepal Length'].sum()\n",
    "column_mean = df['Sepal Length'].mean()\n",
    "column_mode = df['Sepal Length'].mode().values[0]\n",
    "print(f\"Sum: {column_sum}, Mean: {column_mean}, Mode: {column_mode}\")\n"
   ]
  },
  {
   "cell_type": "code",
   "execution_count": 88,
   "id": "b75b4c09",
   "metadata": {},
   "outputs": [],
   "source": [
    "df.columns=df.columns.str.strip()"
   ]
  },
  {
   "cell_type": "code",
   "execution_count": 89,
   "id": "56efe92e",
   "metadata": {},
   "outputs": [
    {
     "name": "stdout",
     "output_type": "stream",
     "text": [
      "Minimum: 4.3, Maximum: 7.0\n"
     ]
    }
   ],
   "source": [
    "column_min = df['Sepal Length'].min()\n",
    "column_max = df['Sepal Length'].max()\n",
    "print(f\"Minimum: {column_min}, Maximum: {column_max}\")"
   ]
  },
  {
   "cell_type": "code",
   "execution_count": 92,
   "id": "b4b481db",
   "metadata": {},
   "outputs": [
    {
     "name": "stdout",
     "output_type": "stream",
     "text": [
      "   Sepal Length  Sepal Width  Petal Length (cm)  Petal Width            Class  \\\n",
      "0           7.0          3.2                4.7          1.4  Iris-versicolor   \n",
      "1           6.4          3.2                4.5          1.5  Iris-versicolor   \n",
      "2           6.9          3.1                4.9          1.5  Iris-versicolor   \n",
      "3           5.5          2.3                4.0          1.3  Iris-versicolor   \n",
      "4           6.5          2.8                4.6          1.5  Iris-versicolor   \n",
      "\n",
      "   Unnamed: 5  Unnamed: 6  alpha  obj  Unnamed: 9  Unnamed: 10  NewColumn  \n",
      "0         NaN         0.0    0.0  0.0           0            1       14.0  \n",
      "1         NaN         0.0    0.0  0.0           0            1       12.8  \n",
      "2         NaN         0.0    0.0  0.0           0            1       13.8  \n",
      "3         NaN         0.0    0.0  0.0           0            1       11.0  \n",
      "4         NaN         0.0    0.0  0.0           0            1       13.0  \n"
     ]
    }
   ],
   "source": [
    "df['NewColumn'] = df['Sepal Length'] * 2  \n",
    "print(df.head())"
   ]
  },
  {
   "cell_type": "code",
   "execution_count": 84,
   "id": "c2a7fea1",
   "metadata": {},
   "outputs": [
    {
     "name": "stdout",
     "output_type": "stream",
     "text": [
      "Missing values in each column:\n",
      "Sepal Length           0\n",
      "Sepal Width            0\n",
      "Petal Length (cm)      0\n",
      "Petal Width            0\n",
      "Class                  0\n",
      "Unnamed: 5           100\n",
      "Unnamed: 6            96\n",
      "alpha                 99\n",
      "obj                   99\n",
      "Unnamed: 9             0\n",
      "Unnamed: 10            0\n",
      "dtype: int64\n"
     ]
    },
    {
     "name": "stderr",
     "output_type": "stream",
     "text": [
      "C:\\Users\\Student\\AppData\\Local\\Temp\\ipykernel_8636\\4111050093.py:4: FutureWarning: The default value of numeric_only in DataFrame.mean is deprecated. In a future version, it will default to False. In addition, specifying 'numeric_only=None' is deprecated. Select only valid columns or specify the value of numeric_only to silence this warning.\n",
      "  df.fillna(df.mean(), inplace=True)\n"
     ]
    }
   ],
   "source": [
    "missing_values = df.isnull().sum()\n",
    "print(f\"Missing values in each column:\\n{missing_values}\")\n",
    "\n",
    "df.fillna(df.mean(), inplace=True)\n"
   ]
  },
  {
   "cell_type": "code",
   "execution_count": 86,
   "id": "b79b2754",
   "metadata": {},
   "outputs": [
    {
     "name": "stdout",
     "output_type": "stream",
     "text": [
      "Index(['Sepal Length ', 'Sepal Width ', 'Petal Length (cm)', 'Petal Width ',\n",
      "       'Class', 'Unnamed: 5', 'Unnamed: 6', 'alpha', 'obj', 'Unnamed: 9',\n",
      "       'Unnamed: 10'],\n",
      "      dtype='object')\n"
     ]
    }
   ],
   "source": [
    "df.rename(columns={'SepalLengthCm': 'Sepal Length', 'SepalWidthCm': 'Sepal Width'}, inplace=True)\n",
    "print(df.columns)\n"
   ]
  },
  {
   "cell_type": "code",
   "execution_count": 93,
   "id": "545460b8",
   "metadata": {},
   "outputs": [
    {
     "data": {
      "image/png": "[encoded data removed]",
      "text/plain": [
       "<Figure size 1000x600 with 2 Axes>"
      ]
     },
     "metadata": {},
     "output_type": "display_data"
    }
   ],
   "source": [
    "\n",
    "numeric_df = df.select_dtypes(include=['number'])\n",
    "\n",
    "\n",
    "plt.figure(figsize=(10, 6))\n",
    "sns.heatmap(numeric_df.corr(), annot=True, cmap='coolwarm')\n",
    "plt.title('Correlation Heatmap')\n",
    "plt.show()"
   ]
  },
  {
   "cell_type": "code",
   "execution_count": null,
   "id": "2d5a82b2",
   "metadata": {},
   "outputs": [],
   "source": []
  }
 ],
 "metadata": {
  "kernelspec": {
   "display_name": "Python 3 (ipykernel)",
   "language": "python",
   "name": "python3"
  },
  "language_info": {
   "codemirror_mode": {
    "name": "ipython",
    "version": 3
   },
   "file_extension": ".py",
   "mimetype": "text/x-python",
   "name": "python",
   "nbconvert_exporter": "python",
   "pygments_lexer": "ipython3",
   "version": "3.10.9"
  }
 },
 "nbformat": 4,
 "nbformat_minor": 5
}
